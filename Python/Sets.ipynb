{
 "cells": [
  {
   "cell_type": "code",
   "execution_count": 2,
   "id": "519ce4bc",
   "metadata": {},
   "outputs": [
    {
     "name": "stdout",
     "output_type": "stream",
     "text": [
      "{1, 2, 3, 4, 5}\n"
     ]
    },
    {
     "data": {
      "text/plain": [
       "set"
      ]
     },
     "execution_count": 2,
     "metadata": {},
     "output_type": "execute_result"
    }
   ],
   "source": [
    "l = (1,2,3,4,5)\n",
    "s1 = set(l)\n",
    "print(s1)\n",
    "type(s1)"
   ]
  },
  {
   "cell_type": "code",
   "execution_count": 3,
   "id": "997ec115",
   "metadata": {},
   "outputs": [
    {
     "name": "stdout",
     "output_type": "stream",
     "text": [
      "{1234}\n"
     ]
    }
   ],
   "source": [
    "list = [1234, 1234, 1234, 1234, 1234]\n",
    "s2 = set(list)\n",
    "print(s2)"
   ]
  },
  {
   "cell_type": "code",
   "execution_count": 4,
   "id": "4b070c92",
   "metadata": {},
   "outputs": [
    {
     "name": "stdout",
     "output_type": "stream",
     "text": [
      "{'e', 'H', 'o', 'l'}\n"
     ]
    }
   ],
   "source": [
    "s3 = set(\"Hello\")\n",
    "print(s3)"
   ]
  },
  {
   "cell_type": "code",
   "execution_count": 5,
   "id": "54e7f685",
   "metadata": {},
   "outputs": [
    {
     "name": "stdout",
     "output_type": "stream",
     "text": [
      "{1, 2, 3, 4, 5}\n"
     ]
    },
    {
     "data": {
      "text/plain": [
       "set"
      ]
     },
     "execution_count": 5,
     "metadata": {},
     "output_type": "execute_result"
    }
   ],
   "source": [
    "s4 = set({1,2,3,4,5})\n",
    "print(s4)\n",
    "type(s4)"
   ]
  },
  {
   "cell_type": "code",
   "execution_count": 6,
   "id": "acfc05bb",
   "metadata": {},
   "outputs": [
    {
     "name": "stdout",
     "output_type": "stream",
     "text": [
      "{1, 2, 3, 4, 5, 'India'}\n"
     ]
    }
   ],
   "source": [
    "s4.add(\"India\")\n",
    "print(s4)"
   ]
  },
  {
   "cell_type": "code",
   "execution_count": 7,
   "id": "26a7da62",
   "metadata": {},
   "outputs": [
    {
     "name": "stdout",
     "output_type": "stream",
     "text": [
      "Union: {1, 2, 3, 4, 5, 6, 7, 8}\n",
      "Union using union() method: {1, 2, 3, 4, 5, 6, 7, 8}\n"
     ]
    }
   ],
   "source": [
    "# Set Operations\n",
    "A = {1, 2, 3, 4, 5}\n",
    "B = {4, 5, 6, 7, 8}\n",
    "\n",
    "\n",
    "# Union\n",
    "C = A | B\n",
    "print(\"Union:\", C)\n",
    "print(\"Union using union() method:\", A.union(B))"
   ]
  },
  {
   "cell_type": "code",
   "execution_count": 8,
   "id": "72e41dee",
   "metadata": {},
   "outputs": [
    {
     "name": "stdout",
     "output_type": "stream",
     "text": [
      "Intersection: {4, 5}\n",
      "Intersection using intersection() method: {4, 5}\n"
     ]
    }
   ],
   "source": [
    "# intersection\n",
    "D = A & B\n",
    "print(\"Intersection:\", D)\n",
    "print(\"Intersection using intersection() method:\", A.intersection(B))"
   ]
  },
  {
   "cell_type": "code",
   "execution_count": 9,
   "id": "05df7af6",
   "metadata": {},
   "outputs": [
    {
     "name": "stdout",
     "output_type": "stream",
     "text": [
      "Difference A - B: {1, 2, 3}\n",
      "Difference using difference() method: {1, 2, 3}\n"
     ]
    }
   ],
   "source": [
    "# Difference\n",
    "E = A - B\n",
    "print(\"Difference A - B:\", E)\n",
    "print(\"Difference using difference() method:\", A.difference(B))"
   ]
  },
  {
   "cell_type": "code",
   "execution_count": 10,
   "id": "44a64088",
   "metadata": {},
   "outputs": [
    {
     "name": "stdout",
     "output_type": "stream",
     "text": [
      "Symmetric Difference: {1, 2, 3, 6, 7, 8}\n",
      "Symmetric Difference using symmetric_difference() method: {1, 2, 3, 6, 7, 8}\n"
     ]
    }
   ],
   "source": [
    "# Symmetric Difference\n",
    "F = A ^ B\n",
    "print(\"Symmetric Difference:\", F)\n",
    "print(\"Symmetric Difference using symmetric_difference() method:\", A.symmetric_difference(B))"
   ]
  },
  {
   "cell_type": "code",
   "execution_count": 11,
   "id": "b370cd1b",
   "metadata": {},
   "outputs": [
    {
     "name": "stdout",
     "output_type": "stream",
     "text": [
      "Is A a subset of B? False\n",
      "Is B a subset of A? False\n"
     ]
    }
   ],
   "source": [
    "# Subset\n",
    "print(\"Is A a subset of B?\", A.issubset(B))\n",
    "print(\"Is B a subset of A?\", B.issubset(A))\n"
   ]
  },
  {
   "cell_type": "code",
   "execution_count": 12,
   "id": "58497f90",
   "metadata": {},
   "outputs": [
    {
     "name": "stdout",
     "output_type": "stream",
     "text": [
      "Set of grades: {'B', 'A', 'D', 'F', 'E', 'G', 'C'}\n"
     ]
    }
   ],
   "source": [
    "Grade_of_class_of_10_students = {\"A\",\"B\",\"A\",\"C\",\"B\",\"A\",\"D\",\"E\",\"F\",\"G\"}\n",
    "set_of_grades = set(Grade_of_class_of_10_students)\n",
    "print(\"Set of grades:\", set_of_grades)"
   ]
  },
  {
   "cell_type": "code",
   "execution_count": 13,
   "id": "29d057ad",
   "metadata": {},
   "outputs": [
    {
     "name": "stdout",
     "output_type": "stream",
     "text": [
      "The End\n"
     ]
    }
   ],
   "source": [
    "print(\"The End\")"
   ]
  }
 ],
 "metadata": {
  "kernelspec": {
   "display_name": "Python 3",
   "language": "python",
   "name": "python3"
  },
  "language_info": {
   "codemirror_mode": {
    "name": "ipython",
    "version": 3
   },
   "file_extension": ".py",
   "mimetype": "text/x-python",
   "name": "python",
   "nbconvert_exporter": "python",
   "pygments_lexer": "ipython3",
   "version": "3.10.0"
  }
 },
 "nbformat": 4,
 "nbformat_minor": 5
}
