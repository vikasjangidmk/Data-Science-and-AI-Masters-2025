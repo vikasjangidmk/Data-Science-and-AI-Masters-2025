{
 "cells": [
  {
   "cell_type": "code",
   "execution_count": 1,
   "id": "7ebf45df",
   "metadata": {},
   "outputs": [
    {
     "name": "stdout",
     "output_type": "stream",
     "text": [
      "(1, 2, 3, 4, 5, 6, 7, 8, 9, 10)\n"
     ]
    }
   ],
   "source": [
    "t = (1,2,3,4,5,6,7,8,9,10)\n",
    "print(t)"
   ]
  },
  {
   "cell_type": "code",
   "execution_count": 2,
   "id": "b82c57a2",
   "metadata": {},
   "outputs": [
    {
     "data": {
      "text/plain": [
       "tuple"
      ]
     },
     "execution_count": 2,
     "metadata": {},
     "output_type": "execute_result"
    }
   ],
   "source": [
    "type(t)"
   ]
  },
  {
   "cell_type": "code",
   "execution_count": 3,
   "id": "5d2722f6",
   "metadata": {},
   "outputs": [
    {
     "name": "stdout",
     "output_type": "stream",
     "text": [
      "(1, 2, 3, 4, 5, 6, 7, 8, 9, 10)\n"
     ]
    },
    {
     "data": {
      "text/plain": [
       "tuple"
      ]
     },
     "execution_count": 3,
     "metadata": {},
     "output_type": "execute_result"
    }
   ],
   "source": [
    "t2 = 1,2,3,4,5,6,7,8,9,10\n",
    "print(t2)\n",
    "type(t2)"
   ]
  },
  {
   "cell_type": "code",
   "execution_count": 6,
   "id": "b6cfd933",
   "metadata": {},
   "outputs": [
    {
     "name": "stdout",
     "output_type": "stream",
     "text": [
      "(1, 2, 3, 4, 5)\n"
     ]
    },
    {
     "data": {
      "text/plain": [
       "tuple"
      ]
     },
     "execution_count": 6,
     "metadata": {},
     "output_type": "execute_result"
    }
   ],
   "source": [
    "l1 = [1, 2, 3, 4, 5]\n",
    "t3 = tuple(l1)\n",
    "print(t3)\n",
    "type(t3)"
   ]
  },
  {
   "cell_type": "code",
   "execution_count": 7,
   "id": "6924be32",
   "metadata": {},
   "outputs": [
    {
     "name": "stdout",
     "output_type": "stream",
     "text": [
      "(1, 2, 3, 4, 5, 'vikas', 'kumar', 1.2, 3.4, 5.6)\n"
     ]
    },
    {
     "data": {
      "text/plain": [
       "tuple"
      ]
     },
     "execution_count": 7,
     "metadata": {},
     "output_type": "execute_result"
    }
   ],
   "source": [
    "t = (1, 2, 3, 4, 5, \"vikas\", \"kumar\", 1.2, 3.4, 5.6)\n",
    "print(t)\n",
    "type(t)"
   ]
  },
  {
   "cell_type": "code",
   "execution_count": 8,
   "id": "c079b67b",
   "metadata": {},
   "outputs": [
    {
     "name": "stdout",
     "output_type": "stream",
     "text": [
      "10\n"
     ]
    }
   ],
   "source": [
    "length = len(t)\n",
    "print(length)"
   ]
  },
  {
   "cell_type": "code",
   "execution_count": 11,
   "id": "cc8e829d",
   "metadata": {},
   "outputs": [
    {
     "name": "stdout",
     "output_type": "stream",
     "text": [
      "(1, 2, 3, [4, 5, 6], (7, 8, 9))\n"
     ]
    },
    {
     "data": {
      "text/plain": [
       "tuple"
      ]
     },
     "execution_count": 11,
     "metadata": {},
     "output_type": "execute_result"
    }
   ],
   "source": [
    "nested_t = (1, 2, 3, [4, 5, 6], (7, 8, 9))\n",
    "print(nested_t)\n",
    "type(nested_t)"
   ]
  },
  {
   "cell_type": "code",
   "execution_count": 12,
   "id": "169d74cc",
   "metadata": {},
   "outputs": [
    {
     "name": "stdout",
     "output_type": "stream",
     "text": [
      "(1.2,)\n"
     ]
    },
    {
     "data": {
      "text/plain": [
       "tuple"
      ]
     },
     "execution_count": 12,
     "metadata": {},
     "output_type": "execute_result"
    }
   ],
   "source": [
    "t1 = 1.2,\n",
    "print(t1)\n",
    "type(t1)"
   ]
  },
  {
   "cell_type": "code",
   "execution_count": 13,
   "id": "1119f889",
   "metadata": {},
   "outputs": [
    {
     "name": "stdout",
     "output_type": "stream",
     "text": [
      "1.2\n"
     ]
    },
    {
     "data": {
      "text/plain": [
       "float"
      ]
     },
     "execution_count": 13,
     "metadata": {},
     "output_type": "execute_result"
    }
   ],
   "source": [
    "t1 = 1.2\n",
    "print(t1)\n",
    "type(t1)"
   ]
  },
  {
   "cell_type": "code",
   "execution_count": 14,
   "id": "31478420",
   "metadata": {},
   "outputs": [
    {
     "name": "stdout",
     "output_type": "stream",
     "text": [
      "2\n"
     ]
    },
    {
     "data": {
      "text/plain": [
       "int"
      ]
     },
     "execution_count": 14,
     "metadata": {},
     "output_type": "execute_result"
    }
   ],
   "source": [
    "t2 = (2)\n",
    "print(t2)\n",
    "type(t2)"
   ]
  },
  {
   "cell_type": "code",
   "execution_count": 15,
   "id": "8533de7a",
   "metadata": {},
   "outputs": [
    {
     "name": "stdout",
     "output_type": "stream",
     "text": [
      "(2,)\n"
     ]
    },
    {
     "data": {
      "text/plain": [
       "tuple"
      ]
     },
     "execution_count": 15,
     "metadata": {},
     "output_type": "execute_result"
    }
   ],
   "source": [
    "t2 = (2,)\n",
    "print(t2)\n",
    "type(t2)"
   ]
  },
  {
   "cell_type": "code",
   "execution_count": 1,
   "id": "ad30d047",
   "metadata": {},
   "outputs": [
    {
     "name": "stdout",
     "output_type": "stream",
     "text": [
      "1\n",
      "2\n",
      "10\n",
      "9\n",
      "(1, 2, 3, 4, 5)\n",
      "(6, 7, 8, 9, 10)\n",
      "(1, 2, 3, 4, 5)\n",
      "(6, 7, 8)\n",
      "(1, 3, 5, 7, 9)\n",
      "(10, 9, 8, 7, 6, 5, 4, 3, 2, 1)\n",
      "(1, 2, 3, 4, 5, 6)\n",
      "(1, 2, 3, 1, 2, 3, 1, 2, 3)\n",
      "True\n",
      "False\n"
     ]
    }
   ],
   "source": [
    "# Indexing in tuples\n",
    "t = (1, 2, 3, 4, 5, 6, 7, 8, 9, 10)\n",
    "print(t[0])  # First element\n",
    "print(t[1])  # Second element\n",
    "print(t[-1])  # Last element\n",
    "print(t[-2])  # Second last element\n",
    "# Slicing in tuples\n",
    "print(t[0:5])  # First five elements\n",
    "print(t[5:])  # Elements from index 5 to the end\n",
    "print(t[:5])  # First five elements\n",
    "print(t[5:8])  # Elements from index 5 to 7\n",
    "print(t[::2])  # Every second element\n",
    "print(t[::-1])  # Reversed tuple\n",
    "# Concatenation and repetition\n",
    "t1 = (1, 2, 3)\n",
    "t2 = (4, 5, 6)\n",
    "t3 = t1 + t2  # Concatenation\n",
    "print(t3)\n",
    "t4 = t1 * 3  # Repetition\n",
    "print(t4)\n",
    "# Membership testing\n",
    "print(1 in t)  # Check if 1 is in the tuple\n",
    "print(11 in t)  # Check if 11 is in the tuple\n"
   ]
  },
  {
   "cell_type": "code",
   "execution_count": 2,
   "id": "6336e8bf",
   "metadata": {},
   "outputs": [
    {
     "name": "stdout",
     "output_type": "stream",
     "text": [
      "(1, 2, 3, 1, 2, 3, 1, 2, 3)\n"
     ]
    }
   ],
   "source": [
    "t1 = (1, 2, 3)\n",
    "t4 = t1 * 3  # Repetition\n",
    "print(t4)"
   ]
  },
  {
   "cell_type": "code",
   "execution_count": 3,
   "id": "fdf098aa",
   "metadata": {},
   "outputs": [
    {
     "name": "stdout",
     "output_type": "stream",
     "text": [
      "15\n",
      "5\n",
      "1\n",
      "[1, 2, 3, 4, 5]\n",
      "1\n",
      "2\n",
      "3\n",
      "1\n",
      "2\n"
     ]
    }
   ],
   "source": [
    "# Sum , max, min, sorted\n",
    "t = (1, 2, 3, 4, 5)\n",
    "print(sum(t))  # Sum of elements\n",
    "print(max(t))  # Maximum element\n",
    "print(min(t))  # Minimum element\n",
    "print(sorted(t))  # Sorted tuple\n",
    "# Tuple unpacking\n",
    "a, b, c = (1, 2, 3)\n",
    "print(a)  # 1\n",
    "print(b)  # 2\n",
    "print(c)  # 3\n",
    "# Tuple methods\n",
    "t = (1, 2, 3, 4, 5)\n",
    "print(t.count(2))  # Count occurrences of 2\n",
    "print(t.index(3))  # Index of first occurrence of 3\n"
   ]
  },
  {
   "cell_type": "code",
   "execution_count": 4,
   "id": "0c85b2a5",
   "metadata": {},
   "outputs": [
    {
     "name": "stdout",
     "output_type": "stream",
     "text": [
      "The End\n"
     ]
    }
   ],
   "source": [
    "print(\"The End\")"
   ]
  }
 ],
 "metadata": {
  "kernelspec": {
   "display_name": "Python 3",
   "language": "python",
   "name": "python3"
  },
  "language_info": {
   "codemirror_mode": {
    "name": "ipython",
    "version": 3
   },
   "file_extension": ".py",
   "mimetype": "text/x-python",
   "name": "python",
   "nbconvert_exporter": "python",
   "pygments_lexer": "ipython3",
   "version": "3.10.0"
  }
 },
 "nbformat": 4,
 "nbformat_minor": 5
}
