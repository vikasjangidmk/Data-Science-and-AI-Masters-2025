{
 "cells": [
  {
   "cell_type": "code",
   "execution_count": 1,
   "id": "92e930c3",
   "metadata": {},
   "outputs": [
    {
     "name": "stdout",
     "output_type": "stream",
     "text": [
      "Hello, Vikas!\n"
     ]
    }
   ],
   "source": [
    "name = \"Vikas\"\n",
    "print(f\"Hello, {name}!\")"
   ]
  },
  {
   "cell_type": "code",
   "execution_count": 2,
   "id": "04740aef",
   "metadata": {},
   "outputs": [
    {
     "name": "stdout",
     "output_type": "stream",
     "text": [
      "<class 'str'>\n"
     ]
    }
   ],
   "source": [
    "print(type(name))"
   ]
  },
  {
   "cell_type": "code",
   "execution_count": 3,
   "id": "5d5be398",
   "metadata": {},
   "outputs": [
    {
     "name": "stdout",
     "output_type": "stream",
     "text": [
      "Hello, vikas!\n"
     ]
    }
   ],
   "source": [
    "name = input(\"Enter your name: \")\n",
    "print(f\"Hello, {name}!\")"
   ]
  },
  {
   "cell_type": "code",
   "execution_count": 4,
   "id": "57af9fcd",
   "metadata": {},
   "outputs": [
    {
     "data": {
      "text/plain": [
       "str"
      ]
     },
     "execution_count": 4,
     "metadata": {},
     "output_type": "execute_result"
    }
   ],
   "source": [
    "type(name)"
   ]
  },
  {
   "cell_type": "code",
   "execution_count": 5,
   "id": "92fd287a",
   "metadata": {},
   "outputs": [
    {
     "name": "stdout",
     "output_type": "stream",
     "text": [
      "<class 'bool'>\n",
      "<class 'str'>\n"
     ]
    }
   ],
   "source": [
    "a = True\n",
    "b = 'True'\n",
    "\n",
    "print(type(a))\n",
    "print(type(b))"
   ]
  },
  {
   "cell_type": "code",
   "execution_count": 8,
   "id": "397704bb",
   "metadata": {},
   "outputs": [
    {
     "name": "stdout",
     "output_type": "stream",
     "text": [
      "95.43\n",
      "<class 'float'>\n"
     ]
    }
   ],
   "source": [
    "accuracy = 95.43\n",
    "print(accuracy)\n",
    "print(type(accuracy))"
   ]
  },
  {
   "cell_type": "code",
   "execution_count": 9,
   "id": "2184da5a",
   "metadata": {},
   "outputs": [
    {
     "data": {
      "text/plain": [
       "95"
      ]
     },
     "execution_count": 9,
     "metadata": {},
     "output_type": "execute_result"
    }
   ],
   "source": [
    "int(accuracy)"
   ]
  },
  {
   "cell_type": "code",
   "execution_count": 10,
   "id": "102b48ef",
   "metadata": {},
   "outputs": [
    {
     "data": {
      "text/plain": [
       "int"
      ]
     },
     "execution_count": 10,
     "metadata": {},
     "output_type": "execute_result"
    }
   ],
   "source": [
    "var = 2\n",
    "type(var)"
   ]
  },
  {
   "cell_type": "code",
   "execution_count": 11,
   "id": "113be893",
   "metadata": {},
   "outputs": [
    {
     "name": "stdout",
     "output_type": "stream",
     "text": [
      "2.0\n",
      "<class 'float'>\n"
     ]
    }
   ],
   "source": [
    "float_var = float(var)\n",
    "print(float_var)\n",
    "print(type(float_var))"
   ]
  },
  {
   "cell_type": "code",
   "execution_count": 12,
   "id": "3c167bcc",
   "metadata": {},
   "outputs": [
    {
     "name": "stdout",
     "output_type": "stream",
     "text": [
      "2\n",
      "<class 'str'>\n"
     ]
    }
   ],
   "source": [
    "str_var = str(var)\n",
    "print(str_var)\n",
    "print(type(str_var))"
   ]
  },
  {
   "cell_type": "code",
   "execution_count": 13,
   "id": "656fd424",
   "metadata": {},
   "outputs": [],
   "source": [
    "# But we cannot convert a string to an integer if it contains non-numeric characters"
   ]
  },
  {
   "cell_type": "code",
   "execution_count": 14,
   "id": "60dffcde",
   "metadata": {},
   "outputs": [
    {
     "data": {
      "text/plain": [
       "str"
      ]
     },
     "execution_count": 14,
     "metadata": {},
     "output_type": "execute_result"
    }
   ],
   "source": [
    "a = \"10\"\n",
    "type(a)"
   ]
  },
  {
   "cell_type": "code",
   "execution_count": 15,
   "id": "5b993907",
   "metadata": {},
   "outputs": [
    {
     "name": "stdout",
     "output_type": "stream",
     "text": [
      "10\n"
     ]
    }
   ],
   "source": [
    "b = int(a)\n",
    "print(b)"
   ]
  },
  {
   "cell_type": "code",
   "execution_count": 16,
   "id": "f49a91fa",
   "metadata": {},
   "outputs": [
    {
     "data": {
      "text/plain": [
       "int"
      ]
     },
     "execution_count": 16,
     "metadata": {},
     "output_type": "execute_result"
    }
   ],
   "source": [
    "type(b)"
   ]
  },
  {
   "cell_type": "code",
   "execution_count": 20,
   "id": "4e3f3054",
   "metadata": {},
   "outputs": [],
   "source": [
    "a = \"2.5\"\n",
    "#b = int(a)  # This will raise a ValueError"
   ]
  },
  {
   "cell_type": "code",
   "execution_count": 18,
   "id": "4885dd88",
   "metadata": {},
   "outputs": [
    {
     "name": "stdout",
     "output_type": "stream",
     "text": [
      "2.5\n",
      "<class 'float'>\n"
     ]
    }
   ],
   "source": [
    "a = \"2.5\"\n",
    "b = float(a)  # This will work\n",
    "print(b)\n",
    "print(type(b))"
   ]
  },
  {
   "cell_type": "code",
   "execution_count": 19,
   "id": "eb98c2db",
   "metadata": {},
   "outputs": [
    {
     "name": "stdout",
     "output_type": "stream",
     "text": [
      "2\n",
      "<class 'int'>\n"
     ]
    }
   ],
   "source": [
    "c = int(b)\n",
    "print(c)  # This will truncate the decimal part\n",
    "print(type(c))"
   ]
  },
  {
   "cell_type": "code",
   "execution_count": 21,
   "id": "e16d4caa",
   "metadata": {},
   "outputs": [
    {
     "name": "stdout",
     "output_type": "stream",
     "text": [
      "h\n",
      "e\n",
      "o\n",
      "ell\n",
      "ello\n",
      "hel\n",
      "llo\n",
      "el\n"
     ]
    }
   ],
   "source": [
    "a = 'hello'\n",
    "\n",
    "# Indexing\n",
    "print(a[0])  # First character\n",
    "print(a[1])  # Second character\n",
    "print(a[-1])  # Last character\n",
    "# Slicing\n",
    "print(a[1:4])  # Characters from index 1 to 3\n",
    "print(a[1:])  # Characters from index 1 to the end\n",
    "print(a[:3])  # First three characters\n",
    "print(a[-3:])  # Last three characters\n",
    "print(a[1:4:2])  # Characters from index 1 to 3, step by 2\n"
   ]
  },
  {
   "cell_type": "code",
   "execution_count": 22,
   "id": "d767f504",
   "metadata": {},
   "outputs": [
    {
     "name": "stdout",
     "output_type": "stream",
     "text": [
      "The sum of 5 and 4 is 9.\n",
      "The difference of 5 and 4 is 1.\n",
      "The product of 5 and 4 is 20.\n",
      "The quotient of 5 and 4 is 1.25.\n",
      "The integer division of 5 and 4 is 1.\n",
      "The remainder of 5 and 4 is 1.\n",
      "The power of 5 raised to 4 is 625.\n"
     ]
    }
   ],
   "source": [
    "a = int(input(\"Enter a number: \"))\n",
    "b = int(input(\"Enter another number: \"))\n",
    "\n",
    "print(f\"The sum of {a} and {b} is {a + b}.\")\n",
    "print(f\"The difference of {a} and {b} is {a - b}.\")\n",
    "print(f\"The product of {a} and {b} is {a * b}.\")\n",
    "print(f\"The quotient of {a} and {b} is {a / b}.\")\n",
    "print(f\"The integer division of {a} and {b} is {a // b}.\")\n",
    "print(f\"The remainder of {a} and {b} is {a % b}.\")\n",
    "print(f\"The power of {a} raised to {b} is {a ** b}.\")"
   ]
  },
  {
   "cell_type": "code",
   "execution_count": 23,
   "id": "0ba417e1",
   "metadata": {},
   "outputs": [
    {
     "data": {
      "text/plain": [
       "0"
      ]
     },
     "execution_count": 23,
     "metadata": {},
     "output_type": "execute_result"
    }
   ],
   "source": [
    "4//8"
   ]
  },
  {
   "cell_type": "code",
   "execution_count": 24,
   "id": "3bd03a95",
   "metadata": {},
   "outputs": [
    {
     "data": {
      "text/plain": [
       "4"
      ]
     },
     "execution_count": 24,
     "metadata": {},
     "output_type": "execute_result"
    }
   ],
   "source": [
    "8//2"
   ]
  },
  {
   "cell_type": "code",
   "execution_count": 25,
   "id": "583dbc11",
   "metadata": {},
   "outputs": [
    {
     "data": {
      "text/plain": [
       "2"
      ]
     },
     "execution_count": 25,
     "metadata": {},
     "output_type": "execute_result"
    }
   ],
   "source": [
    "8//3"
   ]
  },
  {
   "cell_type": "code",
   "execution_count": 26,
   "id": "d7e5cc69",
   "metadata": {},
   "outputs": [
    {
     "data": {
      "text/plain": [
       "8"
      ]
     },
     "execution_count": 26,
     "metadata": {},
     "output_type": "execute_result"
    }
   ],
   "source": [
    "2**3"
   ]
  },
  {
   "cell_type": "code",
   "execution_count": 28,
   "id": "040087d7",
   "metadata": {},
   "outputs": [
    {
     "data": {
      "text/plain": [
       "7"
      ]
     },
     "execution_count": 28,
     "metadata": {},
     "output_type": "execute_result"
    }
   ],
   "source": [
    "3^4 # This is a bitwise XOR operation, not exponentiation"
   ]
  },
  {
   "cell_type": "code",
   "execution_count": 29,
   "id": "53b6259c",
   "metadata": {},
   "outputs": [
    {
     "name": "stdout",
     "output_type": "stream",
     "text": [
      "The End\n"
     ]
    }
   ],
   "source": [
    "print(\"The End\")"
   ]
  }
 ],
 "metadata": {
  "kernelspec": {
   "display_name": "Python 3",
   "language": "python",
   "name": "python3"
  },
  "language_info": {
   "codemirror_mode": {
    "name": "ipython",
    "version": 3
   },
   "file_extension": ".py",
   "mimetype": "text/x-python",
   "name": "python",
   "nbconvert_exporter": "python",
   "pygments_lexer": "ipython3",
   "version": "3.10.0"
  }
 },
 "nbformat": 4,
 "nbformat_minor": 5
}
