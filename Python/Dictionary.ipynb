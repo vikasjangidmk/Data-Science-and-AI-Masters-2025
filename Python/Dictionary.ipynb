{
 "cells": [
  {
   "cell_type": "code",
   "execution_count": 1,
   "id": "be5d8e03",
   "metadata": {},
   "outputs": [],
   "source": [
    "a = {\n",
    "    \"Name\" : \"Vikas\",\n",
    "    \"Age\" : 25,\n",
    "    \"City\" : \"Jaipur\",\n",
    "    \"Country\" : \"India\",\n",
    "    \"Hobbies\" : [\"Reading\", \"Traveling\", \"Cooking\"] \n",
    "}"
   ]
  },
  {
   "cell_type": "code",
   "execution_count": 2,
   "id": "0ee73bcf",
   "metadata": {},
   "outputs": [
    {
     "data": {
      "text/plain": [
       "'Vikas'"
      ]
     },
     "execution_count": 2,
     "metadata": {},
     "output_type": "execute_result"
    }
   ],
   "source": [
    "a[\"Name\"]"
   ]
  },
  {
   "cell_type": "code",
   "execution_count": 3,
   "id": "5fbb48fb",
   "metadata": {},
   "outputs": [
    {
     "data": {
      "text/plain": [
       "dict_items([('Name', 'Vikas'), ('Age', 25), ('City', 'Jaipur'), ('Country', 'India'), ('Hobbies', ['Reading', 'Traveling', 'Cooking'])])"
      ]
     },
     "execution_count": 3,
     "metadata": {},
     "output_type": "execute_result"
    }
   ],
   "source": [
    "a.items()"
   ]
  },
  {
   "cell_type": "code",
   "execution_count": 4,
   "id": "46cb184e",
   "metadata": {},
   "outputs": [
    {
     "name": "stdout",
     "output_type": "stream",
     "text": [
      "Name: Vikas\n",
      "Age: 25\n",
      "City: Jaipur\n",
      "Country: India\n",
      "Hobbies: ['Reading', 'Traveling', 'Cooking']\n"
     ]
    }
   ],
   "source": [
    "for key, value in a.items():\n",
    "    print(f\"{key}: {value}\")"
   ]
  },
  {
   "cell_type": "code",
   "execution_count": 5,
   "id": "be33804e",
   "metadata": {},
   "outputs": [
    {
     "name": "stdout",
     "output_type": "stream",
     "text": [
      "Index 0 - Name: Vikas\n",
      "Index 1 - Age: 25\n",
      "Index 2 - City: Jaipur\n",
      "Index 3 - Country: India\n",
      "Index 4 - Hobbies: ['Reading', 'Traveling', 'Cooking']\n"
     ]
    }
   ],
   "source": [
    "# Usubf enumerate to get index and value\n",
    "for index, (key, value) in enumerate(a.items()):\n",
    "    print(f\"Index {index} - {key}: {value}\")"
   ]
  },
  {
   "cell_type": "code",
   "execution_count": 6,
   "id": "b826c3e6",
   "metadata": {},
   "outputs": [
    {
     "data": {
      "text/plain": [
       "dict"
      ]
     },
     "execution_count": 6,
     "metadata": {},
     "output_type": "execute_result"
    }
   ],
   "source": [
    "type(a)"
   ]
  },
  {
   "cell_type": "code",
   "execution_count": 7,
   "id": "6a124e8e",
   "metadata": {},
   "outputs": [],
   "source": [
    "b = {\n",
    "    \"Name\" , \"Vikas\",\n",
    "    \"Age\" , 25}"
   ]
  },
  {
   "cell_type": "code",
   "execution_count": 8,
   "id": "00fa0d6a",
   "metadata": {},
   "outputs": [
    {
     "data": {
      "text/plain": [
       "{25, 'Age', 'Name', 'Vikas'}"
      ]
     },
     "execution_count": 8,
     "metadata": {},
     "output_type": "execute_result"
    }
   ],
   "source": [
    "b"
   ]
  },
  {
   "cell_type": "code",
   "execution_count": 9,
   "id": "2a3cff80",
   "metadata": {},
   "outputs": [
    {
     "data": {
      "text/plain": [
       "set"
      ]
     },
     "execution_count": 9,
     "metadata": {},
     "output_type": "execute_result"
    }
   ],
   "source": [
    "type(b)"
   ]
  },
  {
   "cell_type": "code",
   "execution_count": 10,
   "id": "f8ca423b",
   "metadata": {},
   "outputs": [
    {
     "name": "stdout",
     "output_type": "stream",
     "text": [
      "{'Name': 'Rahul', 'Age': 25, 'City': 'Jaipur', 'Country': 'India', 'Hobbies': ['Reading', 'Traveling', 'Cooking']}\n"
     ]
    }
   ],
   "source": [
    "a[\"Name\"] = \"Rahul\"\n",
    "print(a)"
   ]
  },
  {
   "cell_type": "code",
   "execution_count": 11,
   "id": "79967609",
   "metadata": {},
   "outputs": [
    {
     "data": {
      "text/plain": [
       "5"
      ]
     },
     "execution_count": 11,
     "metadata": {},
     "output_type": "execute_result"
    }
   ],
   "source": [
    "len(a)"
   ]
  },
  {
   "cell_type": "code",
   "execution_count": 12,
   "id": "e8f9ad91",
   "metadata": {},
   "outputs": [
    {
     "data": {
      "text/plain": [
       "{'Age': 25,\n",
       " 'City': 'Jaipur',\n",
       " 'Country': 'India',\n",
       " 'Hobbies': ['Reading', 'Traveling', 'Cooking']}"
      ]
     },
     "execution_count": 12,
     "metadata": {},
     "output_type": "execute_result"
    }
   ],
   "source": [
    "del a[\"Name\"]\n",
    "\n",
    "a"
   ]
  },
  {
   "cell_type": "code",
   "execution_count": 13,
   "id": "afade55e",
   "metadata": {},
   "outputs": [
    {
     "data": {
      "text/plain": [
       "['Age', 'City', 'Country', 'Hobbies']"
      ]
     },
     "execution_count": 13,
     "metadata": {},
     "output_type": "execute_result"
    }
   ],
   "source": [
    "sorted(a)"
   ]
  },
  {
   "cell_type": "code",
   "execution_count": 14,
   "id": "71cc2b12",
   "metadata": {},
   "outputs": [
    {
     "data": {
      "text/plain": [
       "dict_values([25, 'Jaipur', 'India', ['Reading', 'Traveling', 'Cooking']])"
      ]
     },
     "execution_count": 14,
     "metadata": {},
     "output_type": "execute_result"
    }
   ],
   "source": [
    "a.values()"
   ]
  },
  {
   "cell_type": "code",
   "execution_count": 15,
   "id": "65e5f6df",
   "metadata": {},
   "outputs": [
    {
     "name": "stdout",
     "output_type": "stream",
     "text": [
      "{'Age': 25, 'City': 'Jaipur', 'Country': 'India', 'Hobbies': ['Reading', 'Traveling', 'Cooking'], 'Name': 'Rahul'}\n"
     ]
    }
   ],
   "source": [
    "a[\"Name\"] = \"Rahul\"\n",
    "print(a)"
   ]
  },
  {
   "cell_type": "code",
   "execution_count": 16,
   "id": "0547b123",
   "metadata": {},
   "outputs": [
    {
     "data": {
      "text/plain": [
       "dict_keys(['Age', 'City', 'Country', 'Hobbies', 'Name'])"
      ]
     },
     "execution_count": 16,
     "metadata": {},
     "output_type": "execute_result"
    }
   ],
   "source": [
    "a.keys()"
   ]
  },
  {
   "cell_type": "code",
   "execution_count": 17,
   "id": "f2f60b5b",
   "metadata": {},
   "outputs": [
    {
     "data": {
      "text/plain": [
       "25"
      ]
     },
     "execution_count": 17,
     "metadata": {},
     "output_type": "execute_result"
    }
   ],
   "source": [
    "a.get(\"Age\")"
   ]
  },
  {
   "cell_type": "code",
   "execution_count": 18,
   "id": "7e906dda",
   "metadata": {},
   "outputs": [
    {
     "data": {
      "text/plain": [
       "['Reading', 'Traveling', 'Cooking']"
      ]
     },
     "execution_count": 18,
     "metadata": {},
     "output_type": "execute_result"
    }
   ],
   "source": [
    "a.get(\"Hobbies\")"
   ]
  },
  {
   "cell_type": "code",
   "execution_count": 19,
   "id": "372f56ae",
   "metadata": {},
   "outputs": [
    {
     "name": "stdout",
     "output_type": "stream",
     "text": [
      "{'Age': 25, 'City': 'Jaipur', 'Country': 'India', 'Hobbies': ['Reading', 'Traveling', 'Cooking'], 'Name': 'Rahul', 'Profession': 'Engineer'}\n"
     ]
    }
   ],
   "source": [
    "a.update({\"Profession\": \"Engineer\"})\n",
    "print(a)"
   ]
  },
  {
   "cell_type": "code",
   "execution_count": 20,
   "id": "408c574e",
   "metadata": {},
   "outputs": [
    {
     "name": "stdout",
     "output_type": "stream",
     "text": [
      "{'Age': 25, 'City': 'Delhi', 'Country': 'India', 'Hobbies': ['Reading', 'Traveling', 'Cooking'], 'Name': 'Rahul', 'Profession': 'Engineer'}\n"
     ]
    }
   ],
   "source": [
    "a.update({\"City\": \"Delhi\"})\n",
    "print(a)"
   ]
  },
  {
   "cell_type": "code",
   "execution_count": 21,
   "id": "52b91a2d",
   "metadata": {},
   "outputs": [
    {
     "name": "stdout",
     "output_type": "stream",
     "text": [
      "The End\n"
     ]
    }
   ],
   "source": [
    "print(\"The End\")"
   ]
  }
 ],
 "metadata": {
  "kernelspec": {
   "display_name": "Python 3",
   "language": "python",
   "name": "python3"
  },
  "language_info": {
   "codemirror_mode": {
    "name": "ipython",
    "version": 3
   },
   "file_extension": ".py",
   "mimetype": "text/x-python",
   "name": "python",
   "nbconvert_exporter": "python",
   "pygments_lexer": "ipython3",
   "version": "3.10.0"
  }
 },
 "nbformat": 4,
 "nbformat_minor": 5
}
