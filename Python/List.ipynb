{
 "cells": [
  {
   "cell_type": "code",
   "execution_count": 1,
   "id": "70335aa3",
   "metadata": {},
   "outputs": [
    {
     "data": {
      "text/plain": [
       "[1, 2, 3, 4, 5]"
      ]
     },
     "execution_count": 1,
     "metadata": {},
     "output_type": "execute_result"
    }
   ],
   "source": [
    "lst1 = [1, 2, 3, 4, 5]\n",
    "lst1"
   ]
  },
  {
   "cell_type": "code",
   "execution_count": 2,
   "id": "067647ad",
   "metadata": {},
   "outputs": [
    {
     "data": {
      "text/plain": [
       "['vikas', 'suresh', 'karthik', 'siva', 32, 45.6, True]"
      ]
     },
     "execution_count": 2,
     "metadata": {},
     "output_type": "execute_result"
    }
   ],
   "source": [
    "list2 = [\"vikas\", \"suresh\", \"karthik\", \"siva\",32, 45.6, True]\n",
    "list2"
   ]
  },
  {
   "cell_type": "code",
   "execution_count": 3,
   "id": "8a41f15c",
   "metadata": {},
   "outputs": [
    {
     "name": "stdout",
     "output_type": "stream",
     "text": [
      "<class 'list'>\n"
     ]
    }
   ],
   "source": [
    "print(type(list2))"
   ]
  },
  {
   "cell_type": "code",
   "execution_count": 4,
   "id": "d54da71f",
   "metadata": {},
   "outputs": [
    {
     "name": "stdout",
     "output_type": "stream",
     "text": [
      "<class 'tuple'>\n"
     ]
    }
   ],
   "source": [
    "tuple1 = (1, 2, 3, 4, 5)\n",
    "print(type(tuple1))"
   ]
  },
  {
   "cell_type": "code",
   "execution_count": 5,
   "id": "6ad8afcd",
   "metadata": {},
   "outputs": [
    {
     "name": "stdout",
     "output_type": "stream",
     "text": [
      "[1, 2, 3, [4, 5, 6], 7, 'vikas', 8.9, True]\n",
      "<class 'list'>\n"
     ]
    }
   ],
   "source": [
    "nested_list = [1, 2, 3, [4, 5, 6], 7,\"vikas\", 8.9, True]\n",
    "print(nested_list)\n",
    "print(type(nested_list))"
   ]
  },
  {
   "cell_type": "code",
   "execution_count": 6,
   "id": "603d2367",
   "metadata": {},
   "outputs": [
    {
     "data": {
      "text/plain": [
       "[1, 2, 'vikas', 4, 5, True, 6.7]"
      ]
     },
     "execution_count": 6,
     "metadata": {},
     "output_type": "execute_result"
    }
   ],
   "source": [
    "lis = [1,2,\"vikas\",4,5,True, 6.7]\n",
    "lis"
   ]
  },
  {
   "cell_type": "code",
   "execution_count": 7,
   "id": "fb401b85",
   "metadata": {},
   "outputs": [
    {
     "name": "stdout",
     "output_type": "stream",
     "text": [
      "[100, 2, 'vikas', 4, 5, True, 6.7]\n"
     ]
    }
   ],
   "source": [
    "lis[0] = 100\n",
    "print(lis)"
   ]
  },
  {
   "cell_type": "code",
   "execution_count": 8,
   "id": "4799f386",
   "metadata": {},
   "outputs": [
    {
     "name": "stdout",
     "output_type": "stream",
     "text": [
      "[1, 2, 3, 4, 5, 'a', 'b', 'c', 'd', 'e']\n"
     ]
    }
   ],
   "source": [
    "l1 = [1, 2, 3, 4, 5]\n",
    "l2 = [\"a\", \"b\", \"c\", \"d\", \"e\"]\n",
    "l3 = l1 + l2\n",
    "print(l3)"
   ]
  },
  {
   "cell_type": "code",
   "execution_count": 9,
   "id": "e941b1db",
   "metadata": {},
   "outputs": [],
   "source": [
    "l1.append(\"vikas\")"
   ]
  },
  {
   "cell_type": "code",
   "execution_count": 10,
   "id": "51edad2c",
   "metadata": {},
   "outputs": [
    {
     "data": {
      "text/plain": [
       "[1, 2, 3, 4, 5, 'vikas']"
      ]
     },
     "execution_count": 10,
     "metadata": {},
     "output_type": "execute_result"
    }
   ],
   "source": [
    "l1"
   ]
  },
  {
   "cell_type": "code",
   "execution_count": 11,
   "id": "4fb03ae0",
   "metadata": {},
   "outputs": [
    {
     "name": "stdout",
     "output_type": "stream",
     "text": [
      "True\n",
      "True\n",
      "False\n"
     ]
    }
   ],
   "source": [
    "print(1 in l1)\n",
    "print(\"vikas\" in l1)\n",
    "print(\"vikas\" in l2)"
   ]
  },
  {
   "cell_type": "code",
   "execution_count": 12,
   "id": "8f8da09a",
   "metadata": {},
   "outputs": [],
   "source": [
    "l1 = [\"Maths\", \"Physics\", \"Chemistry\", \"Biology\"]\n",
    "\n",
    "l1[3] = \"English\""
   ]
  },
  {
   "cell_type": "code",
   "execution_count": 13,
   "id": "02c7bc0c",
   "metadata": {},
   "outputs": [
    {
     "data": {
      "text/plain": [
       "['Maths', 'Physics', 'Chemistry', 'English']"
      ]
     },
     "execution_count": 13,
     "metadata": {},
     "output_type": "execute_result"
    }
   ],
   "source": [
    "l1"
   ]
  },
  {
   "cell_type": "code",
   "execution_count": 14,
   "id": "d3918c29",
   "metadata": {},
   "outputs": [
    {
     "name": "stdout",
     "output_type": "stream",
     "text": [
      "[11, 22, 33, 44, 55, 66, 77, 88]\n"
     ]
    }
   ],
   "source": [
    "list1 = [11, 22, 33, 44, 55]\n",
    "list1.extend([66, 77, 88])\n",
    "print(list1)"
   ]
  },
  {
   "cell_type": "code",
   "execution_count": 17,
   "id": "14f2ac24",
   "metadata": {},
   "outputs": [],
   "source": [
    "list2 = [\"vikas\", \"suresh\", \"karthik\", \"siva\"]\n",
    "list1.append(list2)"
   ]
  },
  {
   "cell_type": "code",
   "execution_count": 18,
   "id": "e2c08097",
   "metadata": {},
   "outputs": [
    {
     "data": {
      "text/plain": [
       "[11,\n",
       " 22,\n",
       " 33,\n",
       " 44,\n",
       " 55,\n",
       " 66,\n",
       " 77,\n",
       " 88,\n",
       " [['vikas', 'suresh', 'karthik', 'siva']],\n",
       " ['vikas', 'suresh', 'karthik', 'siva']]"
      ]
     },
     "execution_count": 18,
     "metadata": {},
     "output_type": "execute_result"
    }
   ],
   "source": [
    "list1"
   ]
  },
  {
   "cell_type": "code",
   "execution_count": 20,
   "id": "9da1bc67",
   "metadata": {},
   "outputs": [],
   "source": [
    "l1 = [1, 2, 3, 4, 5]\n",
    "del l1[2]"
   ]
  },
  {
   "cell_type": "code",
   "execution_count": 21,
   "id": "d9496b1e",
   "metadata": {},
   "outputs": [
    {
     "data": {
      "text/plain": [
       "[1, 2, 4, 5]"
      ]
     },
     "execution_count": 21,
     "metadata": {},
     "output_type": "execute_result"
    }
   ],
   "source": [
    "l1"
   ]
  },
  {
   "cell_type": "code",
   "execution_count": 22,
   "id": "25dee712",
   "metadata": {},
   "outputs": [
    {
     "name": "stdout",
     "output_type": "stream",
     "text": [
      "[1, 2, 100, 3, 4, 5]\n"
     ]
    }
   ],
   "source": [
    "l1 = [1, 2, 3, 4, 5]\n",
    "l1.insert(2, 100)\n",
    "print(l1)"
   ]
  },
  {
   "cell_type": "code",
   "execution_count": 23,
   "id": "03bb6b5a",
   "metadata": {},
   "outputs": [
    {
     "data": {
      "text/plain": [
       "5"
      ]
     },
     "execution_count": 23,
     "metadata": {},
     "output_type": "execute_result"
    }
   ],
   "source": [
    "l1.pop()"
   ]
  },
  {
   "cell_type": "code",
   "execution_count": 26,
   "id": "15d56d97",
   "metadata": {},
   "outputs": [
    {
     "name": "stdout",
     "output_type": "stream",
     "text": [
      "[1, 2, 4, 5]\n"
     ]
    }
   ],
   "source": [
    "l1 = [1, 2, 3, 4, 5]\n",
    "l1.remove(3)\n",
    "print(l1)"
   ]
  },
  {
   "cell_type": "code",
   "execution_count": 27,
   "id": "a85cf6d9",
   "metadata": {},
   "outputs": [
    {
     "name": "stdout",
     "output_type": "stream",
     "text": [
      "[12, 23, 32, 34, 45, 67, 76, 89]\n"
     ]
    }
   ],
   "source": [
    "A = [23,45,76,32,67,89,12,34]\n",
    "A.sort()\n",
    "print(A)"
   ]
  },
  {
   "cell_type": "code",
   "execution_count": 28,
   "id": "bdae7287",
   "metadata": {},
   "outputs": [
    {
     "name": "stdout",
     "output_type": "stream",
     "text": [
      "[89, 76, 67, 45, 34, 32, 23, 12]\n"
     ]
    }
   ],
   "source": [
    "A.sort(reverse=True)\n",
    "print(A)"
   ]
  },
  {
   "cell_type": "code",
   "execution_count": 30,
   "id": "4d044dd9",
   "metadata": {},
   "outputs": [
    {
     "name": "stdout",
     "output_type": "stream",
     "text": [
      "[23, 45, 76, 32, 67, 89, 12, 34]\n",
      "[12, 23, 32, 34, 45, 67, 76, 89]\n",
      "[12, 23, 32, 34, 45, 67, 76, 89]\n",
      "None\n"
     ]
    }
   ],
   "source": [
    "# difference between sort and sorted\n",
    "B = [23, 45, 76, 32, 67, 89, 12, 34]\n",
    "C = sorted(B)\n",
    "print(B)\n",
    "print(C)\n",
    "C = B.sort()\n",
    "print(B)\n",
    "print(C)\n",
    "# sorted returns a new sorted list, while sort modifies the original list in place"
   ]
  },
  {
   "cell_type": "code",
   "execution_count": 31,
   "id": "edf4b6b7",
   "metadata": {},
   "outputs": [
    {
     "name": "stdout",
     "output_type": "stream",
     "text": [
      "['Kumar', 'Vikas', '008']\n"
     ]
    }
   ],
   "source": [
    "input = \"Kumar_Vikas_008\"\n",
    "a = input.split(\"_\")\n",
    "print(a)"
   ]
  },
  {
   "cell_type": "code",
   "execution_count": 32,
   "id": "592f7b94",
   "metadata": {},
   "outputs": [
    {
     "name": "stdout",
     "output_type": "stream",
     "text": [
      "The End\n"
     ]
    }
   ],
   "source": [
    "print(\"The End\")"
   ]
  }
 ],
 "metadata": {
  "kernelspec": {
   "display_name": "Python 3",
   "language": "python",
   "name": "python3"
  },
  "language_info": {
   "codemirror_mode": {
    "name": "ipython",
    "version": 3
   },
   "file_extension": ".py",
   "mimetype": "text/x-python",
   "name": "python",
   "nbconvert_exporter": "python",
   "pygments_lexer": "ipython3",
   "version": "3.10.0"
  }
 },
 "nbformat": 4,
 "nbformat_minor": 5
}
